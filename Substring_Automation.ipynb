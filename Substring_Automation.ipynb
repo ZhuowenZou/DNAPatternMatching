{
 "cells": [
  {
   "cell_type": "code",
   "execution_count": 1,
   "metadata": {},
   "outputs": [],
   "source": [
    "import sklearn\n",
    "from sklearn.discriminant_analysis import LinearDiscriminantAnalysis\n",
    "from sklearn.decomposition import PCA\n",
    "import time\n",
    "import sys\n",
    "import math\n",
    "import numpy as np\n",
    "import random\n",
    "import joblib\n",
    "from scipy import stats\n",
    "from tqdm import tqdm_notebook\n",
    "import matplotlib.pyplot as plt\n",
    "import matplotlib as mpl\n",
    "import copy\n",
    "\n",
    "import Config\n",
    "from Config import *\n",
    "import HD_basis as HDB\n",
    "import HD_encoder as HDE\n",
    "import HD_classifier as HDC\n"
   ]
  },
  {
   "cell_type": "markdown",
   "metadata": {},
   "source": [
    "# Generate data"
   ]
  },
  {
   "cell_type": "code",
   "execution_count": 2,
   "metadata": {},
   "outputs": [],
   "source": [
    "def randgen_DNA(n, query = \"\", c_len = None, nMis = 0):\n",
    "    print(\"Generating rand seq of length\", n)\n",
    "    \n",
    "    DNA = \"ACGT\"\n",
    "    \n",
    "    substring = str(query)\n",
    "    if nMis != 0 and len(substring) >= nMis:\n",
    "        idxs = np.random.choice(len(substring), size = nMis, replace=False)\n",
    "        lvls = np.random.randint(1, 4, nMis)\n",
    "        for i in range(len(idxs)):\n",
    "            substring = substring[:idxs[i]] + str( (int(substring[idxs[i]]) + lvls[i]) % 4) + substring[idxs[i]+1:]\n",
    "    substring = str(substring)\n",
    "    \n",
    "    m = n - len(substring)\n",
    "    if m == 0:\n",
    "        return substring\n",
    "    datum = [str(np.random.randint(0,4)) for _ in range(m)]\n",
    "    place = 0\n",
    "    if c_len is None:\n",
    "        place = np.random.randint(0,m+1)\n",
    "    else:\n",
    "        place = np.random.randint(0,m+1)//c_len * c_len\n",
    "    string = \"\".join(datum)\n",
    "    string = string[:place] + substring + string[place:]\n",
    "    assert len(string) == n\n",
    "    assert string.find(substring) != -1\n",
    "    return string, place\n"
   ]
  },
  {
   "cell_type": "code",
   "execution_count": 3,
   "metadata": {},
   "outputs": [],
   "source": [
    "def datagen(n_len, c_len, nMis):\n",
    "    \n",
    "    q_len = 2**8\n",
    "    q_amt = 100\n",
    "    n_amt = 100\n",
    "\n",
    "    #n_len = 2**8 + 2 ** 10\n",
    "    #c_len = 4\n",
    "\n",
    "    queries = np.asarray([randgen_DNA(q_len) for _ in range(q_amt)])\n",
    "    queries = queries[:, 0]\n",
    "    #print(queries[0])\n",
    "\n",
    "    data = np.asarray([randgen_DNA(n_len, queries[i], c_len, nMis) for i in range(n_amt)])\n",
    "    refs = data[:,0]\n",
    "    labs = data[:,1]\n",
    "    \n",
    "    q_file = open(\"query.txt\", \"w\")\n",
    "    for q in queries:\n",
    "        q_file.write(q+\"\\n\")\n",
    "    q_file.close()\n",
    "    \n",
    "    r_file = open(\"ref.txt\", \"w\")\n",
    "    for r in refs:\n",
    "        r_file.write(r+\"\\n\")\n",
    "    r_file.close()\n",
    "    \n",
    "    l_file = open(\"lab.txt\", \"w\")\n",
    "    for l in labs:\n",
    "        l_file.write(l+\"\\n\")\n",
    "    l_file.close()"
   ]
  },
  {
   "cell_type": "code",
   "execution_count": null,
   "metadata": {},
   "outputs": [],
   "source": []
  }
 ],
 "metadata": {
  "kernelspec": {
   "display_name": "Python 3",
   "language": "python",
   "name": "python3"
  },
  "language_info": {
   "codemirror_mode": {
    "name": "ipython",
    "version": 3
   },
   "file_extension": ".py",
   "mimetype": "text/x-python",
   "name": "python",
   "nbconvert_exporter": "python",
   "pygments_lexer": "ipython3",
   "version": "3.7.4"
  }
 },
 "nbformat": 4,
 "nbformat_minor": 2
}
